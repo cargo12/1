{
  "nbformat": 4,
  "nbformat_minor": 0,
  "metadata": {
    "colab": {
      "name": "Copy of Untitled16.ipynb",
      "provenance": [],
      "collapsed_sections": [],
      "authorship_tag": "ABX9TyMk4f95FipsxFZZF3aTNgnW",
      "include_colab_link": true
    },
    "kernelspec": {
      "name": "python3",
      "display_name": "Python 3"
    }
  },
  "cells": [
    {
      "cell_type": "markdown",
      "metadata": {
        "id": "view-in-github",
        "colab_type": "text"
      },
      "source": [
        "<a href=\"https://colab.research.google.com/github/cargo12/1/blob/master/c2c-bobrusi.ipynb\" target=\"_parent\"><img src=\"https://colab.research.google.com/assets/colab-badge.svg\" alt=\"Open In Colab\"/></a>"
      ]
    },
    {
      "cell_type": "code",
      "metadata": {
        "id": "sbeNHgExBk8V",
        "colab_type": "code",
        "colab": {}
      },
      "source": [
        ""
      ],
      "execution_count": 0,
      "outputs": []
    },
    {
      "cell_type": "code",
      "metadata": {
        "id": "SwSWEDyM_3pf",
        "colab_type": "code",
        "colab": {}
      },
      "source": [
        "from google.colab import drive\n",
        "drive.mount('/content/drive')"
      ],
      "execution_count": 0,
      "outputs": []
    },
    {
      "cell_type": "code",
      "metadata": {
        "id": "4zInu4dQCK2o",
        "colab_type": "code",
        "colab": {}
      },
      "source": [
        "!curl https://rclone.org/install.sh | sudo bash\n",
        "!rclone config file\n",
        "!cp /content/drive/My\\ Drive/Config/rclone.conf /root/.config/rclone/\n",
        "!cp /content/drive/My\\ Drive/Config/01.json /root/.config/rclone/\n",
        "!cp /content/drive/My\\ Drive/Config/02.json /root/.config/rclone/\n",
        "!cp /content/drive/My\\ Drive/Config/03.json /root/.config/rclone/\n",
        "!cp /content/drive/My\\ Drive/Config/04.json /root/.config/rclone/\n",
        "!cp /content/drive/My\\ Drive/Config/05.json /root/.config/rclone/"
      ],
      "execution_count": 0,
      "outputs": []
    },
    {
      "cell_type": "code",
      "metadata": {
        "id": "2ipy4_5rC4qV",
        "colab_type": "code",
        "colab": {}
      },
      "source": [
        "!rclone listremotes"
      ],
      "execution_count": 0,
      "outputs": []
    },
    {
      "cell_type": "code",
      "metadata": {
        "id": "sJ8sm0oSHRGV",
        "colab_type": "code",
        "colab": {}
      },
      "source": [
        "!rclone lsd Seedit4:"
      ],
      "execution_count": 0,
      "outputs": []
    },
    {
      "cell_type": "code",
      "metadata": {
        "id": "04VBr2hfHeLO",
        "colab_type": "code",
        "colab": {}
      },
      "source": [
        "!rclone lsd Seedit4:Downloads/Radarr/Downloads/ gunlimited:LLLOAD --config=/root/.config/rclone/rclone.conf --delete-empty-src-dirs --fast-list --no-traverse --drive-chunk-size 2048 --transfers=3 --checkers=12 --stats=5s --stats-one-line --stats-log-level NOTICE"
      ],
      "execution_count": 0,
      "outputs": []
    }
  ]
}